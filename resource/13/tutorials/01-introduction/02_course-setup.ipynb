{
 "cells": [
  {
   "cell_type": "markdown",
   "metadata": {},
   "source": [
    "# Course setup\n",
    "\n",
    "\n",
    "### [Python](https://www.python.org/downloads/)\n",
    "\n",
    "Download the latest python version\n",
    "\n",
    "```\n",
    "python --version\n",
    "python3 --version\n",
    "```\n",
    "\n",
    "### [Django](https://www.djangoproject.com/start/)\n",
    "\n",
    "Download the latest django version\n",
    "\n",
    "```\n",
    "pip install django\n",
    "```\n",
    "\n",
    "### [Virtual env](https://pipenv.pypa.io/en/latest/)\n",
    "\n",
    "Download the pipenv (virtual environment)\n",
    "\n",
    "```\n",
    "pip3 install pipenv\n",
    "```\n",
    "\n",
    "### [vscode](https://code.visualstudio.com/)\n",
    "\n",
    "Download the latest version of VScode.\n"
   ]
  }
 ],
 "metadata": {
  "language_info": {
   "name": "python"
  },
  "orig_nbformat": 4
 },
 "nbformat": 4,
 "nbformat_minor": 2
}
