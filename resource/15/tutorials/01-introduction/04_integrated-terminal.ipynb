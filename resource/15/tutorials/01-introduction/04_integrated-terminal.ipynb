{
 "cells": [
  {
   "cell_type": "markdown",
   "metadata": {},
   "source": [
    "# Integrated terminal\n",
    "\n",
    "\n",
    " - **View > Command Palette > (search) python interpreter > Enter interpreter path > Enter venv/bin/python path**\n",
    " - **To get venv path** ```pipenv --venv``` *(inside the project directory)*\n",
    " - **View > terminal** *(use integrated terminal)*"
   ]
  }
 ],
 "metadata": {
  "language_info": {
   "name": "python"
  },
  "orig_nbformat": 4
 },
 "nbformat": 4,
 "nbformat_minor": 2
}
