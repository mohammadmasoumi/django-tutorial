{
 "cells": [
  {
   "cell_type": "markdown",
   "metadata": {},
   "source": [
    "# Create app\n",
    "\n",
    " - create view \n",
    " - return http response (HttpResponse) \n",
    " - create urls.py\n",
    " - create urlpatterns\n",
    " - include app.urls\n",
    " - create template directory\n",
    " - return html file (render)\n",
    " - data modeling\n",
    " - university data modeling\n",
    " - online shop data modeling\n",
    "\n",
    "## Content list\n",
    "\n",
    " - apps\n",
    " - data modeling\n",
    " - one-to-one relationship\n",
    " - one-to-many relationship\n",
    " - many-to-many relationship\n",
    " - association relationship\n",
    " - generic models\n",
    " - model fields\n",
    "\n",
    "## apps\n",
    "\n",
    "1. **store**\n",
    "2. **tags**\n",
    "\n",
    "## data modeling\n",
    "\n",
    " - **Product**\n",
    "   - title \n",
    "   - description\n",
    "   - price\n",
    "   - slug\n",
    "   - invertory\n",
    "   - created_at\n",
    "   - updated_at\n",
    "   - deleted_at\n",
    " \n",
    " - **Collection**\n",
    "   - title\n",
    "   - created_at\n",
    "   - updated_at\n",
    "   - deleted_at\n",
    " - \n"
   ]
  }
 ],
 "metadata": {
  "language_info": {
   "name": "python"
  },
  "orig_nbformat": 4
 },
 "nbformat": 4,
 "nbformat_minor": 2
}
