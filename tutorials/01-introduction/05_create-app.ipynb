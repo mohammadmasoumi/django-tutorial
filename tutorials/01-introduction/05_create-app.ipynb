{
 "cells": [
  {
   "cell_type": "markdown",
   "metadata": {},
   "source": [
    "# Django apps\n",
    "\n",
    "a django project contains different apps which has their own responsibilities. Django apps are like applications on our cellphones.\n",
    "\n",
    "\n",
    "## Create your first app\n",
    "\n",
    " - create app\n",
    "    ```\n",
    "    django-admin startapp accounting\n",
    "    ```\n",
    " - register app in the django ``INSTALLED_APPS``\n",
    "\n"
   ]
  }
 ],
 "metadata": {
  "language_info": {
   "name": "python"
  },
  "orig_nbformat": 4
 },
 "nbformat": 4,
 "nbformat_minor": 2
}
