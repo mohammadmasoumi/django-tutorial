{
 "cells": [
  {
   "cell_type": "markdown",
   "metadata": {},
   "source": [
    "# Introduction to Django?\n",
    "\n",
    " - Free and open-source framework for building **web apps** with **python**\n",
    " - [Not the only one but The most popular](https://wiki.python.org/moin/WebFrameworks). (**Less time** & **Less code**) \n",
    " - YouTube, Instagram, Spotify, DropBox\n",
    " - a **\"batteries-included\"** framework\n",
    "\n",
    "## Features\n",
    " - The admin site\n",
    " - object-relational mapper (ORM)\n",
    " - Authentication \n",
    " - Caching\n",
    "\n",
    "## Pros\n",
    " - Maturity\n",
    " - Stability\n",
    " - Difficulty\n",
    " - Community\n",
    "\n",
    "## Cons \n",
    " - Performance \n",
    "\n",
    "\n"
   ]
  },
  {
   "cell_type": "markdown",
   "metadata": {},
   "source": [
    "# Fundamentals of web development\n",
    "\n",
    "Separate into two parts:\n",
    " - backend\n",
    " - frontend\n",
    "\n",
    "### Procedure\n",
    " - frontend (client) send request to backend (server)\n",
    "   - Use **URL (Uniform Resource Locator)** & **API (Application Programming Interface)**.\n",
    "     - Like buttons in remote control\n",
    "     - */products*\n",
    "     - */homepage*\n",
    "   - Over **[HTTP](https://www.w3schools.com/whatis/whatis_http.asp) (Hypertext Transfer protocol)** protocol.\n",
    " - backend (server) get request and process it and then send a response to the frontend (client)\n",
    "   - **[HTML](https://www.w3schools.com/whatis/whatis_html.asp) (Hypertext Markup Language)**\n",
    "   - **[JSON](https://www.w3schools.com/whatis/whatis_json.asp)**\n",
    " - frontend (client) receive response.\n",
    "\n",
    "### Rendering\n",
    "\n",
    " - backend send html response to frontend\n",
    " - backend just send the data and frontend re-render it's content correspondingly\n",
    "\n"
   ]
  }
 ],
 "metadata": {
  "language_info": {
   "name": "python"
  },
  "orig_nbformat": 4
 },
 "nbformat": 4,
 "nbformat_minor": 2
}
