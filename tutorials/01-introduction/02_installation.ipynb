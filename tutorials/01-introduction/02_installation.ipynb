{
 "cells": [
  {
   "cell_type": "markdown",
   "metadata": {},
   "source": [
    "# Installation\n",
    "\n",
    "\n",
    "### [Python](https://www.python.org/downloads/)\n",
    "```\n",
    "python --version\n",
    "python3 --version\n",
    "```\n",
    "\n",
    "### [Django](https://www.djangoproject.com/start/)\n",
    "\n",
    "```\n",
    "pip install django\n",
    "```\n",
    "\n",
    "### Virtual env\n"
   ]
  }
 ],
 "metadata": {
  "language_info": {
   "name": "python"
  },
  "orig_nbformat": 4
 },
 "nbformat": 4,
 "nbformat_minor": 2
}
