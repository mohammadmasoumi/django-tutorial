{
 "cells": [
  {
   "cell_type": "markdown",
   "metadata": {},
   "source": [
    "# Create your first project\n",
    "\n",
    "1. create project directory\n",
    "```\n",
    "mkdir asgharshop\n",
    "```\n",
    "2. cd into the created directory\n",
    "```\n",
    "cd asgharshop\n",
    "```\n",
    "3. Install django in venv\n",
    "```\n",
    "pipenv install django\n",
    "```\n",
    "4. \n",
    "\n",
    "\n",
    "\n"
   ]
  }
 ],
 "metadata": {
  "language_info": {
   "name": "python"
  },
  "orig_nbformat": 4
 },
 "nbformat": 4,
 "nbformat_minor": 2
}
