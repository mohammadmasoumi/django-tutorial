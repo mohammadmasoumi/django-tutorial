{
 "cells": [
  {
   "cell_type": "markdown",
   "metadata": {},
   "source": [
    "# Create your first project\n",
    "\n",
    "1. create project directory\n",
    "    ```\n",
    "    mkdir onlineshop\n",
    "    ```\n",
    "\n",
    "2. cd into the created directory\n",
    "    ```\n",
    "    cd onlineshop\n",
    "    ```\n",
    "\n",
    "3. Install django in venv\n",
    "    ```\n",
    "    pipenv install django\n",
    "    ```\n",
    "    copy Virtualenv location: /home/$USER/.local/share/virtualenvs/onlineshop-hjMltqKS\n",
    "\n",
    "4. Open vscode\n",
    "    ```\n",
    "    code .\n",
    "    ```\n",
    "\n",
    "5. Checkout **Pipfile** and **Pipfile.lock**\n",
    "\n",
    "6. Activate virtual env\n",
    "    ```\n",
    "    pipenv shell\n",
    "    ```\n",
    "\n",
    "7. \n",
    "\n",
    "\n",
    "\n",
    "\n"
   ]
  }
 ],
 "metadata": {
  "language_info": {
   "name": "python"
  },
  "orig_nbformat": 4
 },
 "nbformat": 4,
 "nbformat_minor": 2
}
