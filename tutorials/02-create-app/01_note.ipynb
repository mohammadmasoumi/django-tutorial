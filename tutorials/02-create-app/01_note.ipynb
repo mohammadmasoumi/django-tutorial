{
 "cells": [
  {
   "cell_type": "markdown",
   "metadata": {},
   "source": [
    "# Create app \n",
    "\n",
    "### apps\n",
    "\n",
    "1. **store**\n",
    "2. **tags**\n",
    "\n",
    "\n",
    "\n"
   ]
  }
 ],
 "metadata": {
  "language_info": {
   "name": "python"
  },
  "orig_nbformat": 4
 },
 "nbformat": 4,
 "nbformat_minor": 2
}
