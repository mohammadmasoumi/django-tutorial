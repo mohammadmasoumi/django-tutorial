{
 "cells": [
  {
   "cell_type": "markdown",
   "metadata": {},
   "source": [
    "# Create app\n",
    "\n",
    "## Content list\n",
    "\n",
    " - apps\n",
    " - data modeling\n",
    " - one-to-one relationship\n",
    " - one-to-many relationship\n",
    " - many-to-many relationship\n",
    " - association relationship\n",
    " - generic models\n",
    " - model fields\n",
    "\n",
    "\n",
    "\n",
    "## apps\n",
    "\n",
    "1. **store**\n",
    "2. **tags**\n",
    "\n",
    "\n",
    "## data modeling\n",
    "\n",
    " - **Product**\n",
    "   - title \n",
    "   - description\n",
    "   - price\n",
    "   - slug\n",
    "   - invertory\n",
    "   - created_at\n",
    "   - updated_at\n",
    "   - deleted_at\n",
    " \n",
    " - **Collection**\n",
    "   - title\n",
    "   - created_at\n",
    "   - updated_at\n",
    "   - deleted_at\n",
    " - \n",
    "\n",
    "\n",
    "\n",
    "\n"
   ]
  }
 ],
 "metadata": {
  "language_info": {
   "name": "python"
  },
  "orig_nbformat": 4
 },
 "nbformat": 4,
 "nbformat_minor": 2
}
